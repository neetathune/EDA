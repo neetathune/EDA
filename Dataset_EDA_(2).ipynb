{
  "cells": [
    {
      "cell_type": "markdown",
      "metadata": {
        "id": "view-in-github",
        "colab_type": "text"
      },
      "source": [
        "<a href=\"https://colab.research.google.com/github/neetathune/EDA/blob/main/Dataset_EDA_(2).ipynb\" target=\"_parent\"><img src=\"https://colab.research.google.com/assets/colab-badge.svg\" alt=\"Open In Colab\"/></a>"
      ]
    },
    {
      "cell_type": "markdown",
      "metadata": {
        "id": "yEGGDWAKEQL0"
      },
      "source": [
        "# Import packages"
      ]
    },
    {
      "cell_type": "code",
      "execution_count": null,
      "metadata": {
        "ExecuteTime": {
          "end_time": "2022-10-09T11:42:54.261989Z",
          "start_time": "2022-10-09T11:42:53.233500Z"
        },
        "id": "aPCnpw-yEQL4"
      },
      "outputs": [],
      "source": [
        "import pandas as pd\n",
        "import numpy as np\n",
        "import matplotlib.pyplot as plt\n",
        "import seaborn as sns"
      ]
    },
    {
      "cell_type": "markdown",
      "metadata": {
        "id": "t66qi0S7EQL6"
      },
      "source": [
        "# Load Data"
      ]
    },
    {
      "cell_type": "code",
      "execution_count": null,
      "metadata": {
        "ExecuteTime": {
          "end_time": "2022-10-09T11:43:15.611638Z",
          "start_time": "2022-10-09T11:43:15.591138Z"
        },
        "id": "YnyqlJmWEQL6"
      },
      "outputs": [],
      "source": [
        "data = pd.read_csv('pandas_demo.csv')"
      ]
    },
    {
      "cell_type": "code",
      "execution_count": null,
      "metadata": {
        "ExecuteTime": {
          "end_time": "2022-10-09T11:43:19.468002Z",
          "start_time": "2022-10-09T11:43:19.391942Z"
        },
        "id": "L4KzgBuiEQL6",
        "outputId": "e86c202f-67a0-4890-ff73-23d23cfdb426"
      },
      "outputs": [
        {
          "data": {
            "text/html": [
              "<div>\n",
              "<style scoped>\n",
              "    .dataframe tbody tr th:only-of-type {\n",
              "        vertical-align: middle;\n",
              "    }\n",
              "\n",
              "    .dataframe tbody tr th {\n",
              "        vertical-align: top;\n",
              "    }\n",
              "\n",
              "    .dataframe thead th {\n",
              "        text-align: right;\n",
              "    }\n",
              "</style>\n",
              "<table border=\"1\" class=\"dataframe\">\n",
              "  <thead>\n",
              "    <tr style=\"text-align: right;\">\n",
              "      <th></th>\n",
              "      <th>first_name</th>\n",
              "      <th>last_name</th>\n",
              "      <th>email</th>\n",
              "      <th>gender</th>\n",
              "      <th>employer</th>\n",
              "      <th>designation</th>\n",
              "      <th>university</th>\n",
              "      <th>personal_phone</th>\n",
              "      <th>bank</th>\n",
              "      <th>birth_year</th>\n",
              "      <th>years_employed</th>\n",
              "    </tr>\n",
              "  </thead>\n",
              "  <tbody>\n",
              "    <tr>\n",
              "      <th>0</th>\n",
              "      <td>Otha</td>\n",
              "      <td>Gjerde</td>\n",
              "      <td>ogjerde0@biglobe.ne.jp</td>\n",
              "      <td>Female</td>\n",
              "      <td>Zomato</td>\n",
              "      <td>NaN</td>\n",
              "      <td>Sang Myung University</td>\n",
              "      <td>132-421-9138</td>\n",
              "      <td>HDFC</td>\n",
              "      <td>1970</td>\n",
              "      <td>24.0</td>\n",
              "    </tr>\n",
              "    <tr>\n",
              "      <th>1</th>\n",
              "      <td>Yance</td>\n",
              "      <td>Barnsdale</td>\n",
              "      <td>ybarnsdale1@reference.com</td>\n",
              "      <td>Male</td>\n",
              "      <td>Goldman Sachs</td>\n",
              "      <td>Social Worker</td>\n",
              "      <td>Fachhochschule Ravensburg-Weingarten</td>\n",
              "      <td>492-125-1131</td>\n",
              "      <td>SBI</td>\n",
              "      <td>1960</td>\n",
              "      <td>32.0</td>\n",
              "    </tr>\n",
              "    <tr>\n",
              "      <th>2</th>\n",
              "      <td>Lazarus</td>\n",
              "      <td>MacNish</td>\n",
              "      <td>lmacnish2@altervista.org</td>\n",
              "      <td>Male</td>\n",
              "      <td>TCS</td>\n",
              "      <td>Administrative Officer</td>\n",
              "      <td>California State University, Channel Islands</td>\n",
              "      <td>235-492-4252</td>\n",
              "      <td>ICICI</td>\n",
              "      <td>1970</td>\n",
              "      <td>24.0</td>\n",
              "    </tr>\n",
              "    <tr>\n",
              "      <th>3</th>\n",
              "      <td>Monroe</td>\n",
              "      <td>Gwinnel</td>\n",
              "      <td>mgwinnel3@booking.com</td>\n",
              "      <td>Male</td>\n",
              "      <td>Goldman Sachs</td>\n",
              "      <td>Technical Writer</td>\n",
              "      <td>St. Mary-of-the-Woods College</td>\n",
              "      <td>NaN</td>\n",
              "      <td>ICICI</td>\n",
              "      <td>1982</td>\n",
              "      <td>14.4</td>\n",
              "    </tr>\n",
              "    <tr>\n",
              "      <th>4</th>\n",
              "      <td>Gaspard</td>\n",
              "      <td>Gullivent</td>\n",
              "      <td>ggullivent4@wikia.com</td>\n",
              "      <td>Male</td>\n",
              "      <td>Infosys</td>\n",
              "      <td>Clinical Specialist</td>\n",
              "      <td>Islamic Azad University, Quchan</td>\n",
              "      <td>232-527-4054</td>\n",
              "      <td>ICICI</td>\n",
              "      <td>1998</td>\n",
              "      <td>1.6</td>\n",
              "    </tr>\n",
              "  </tbody>\n",
              "</table>\n",
              "</div>"
            ],
            "text/plain": [
              "  first_name  last_name                      email  gender       employer  \\\n",
              "0       Otha     Gjerde     ogjerde0@biglobe.ne.jp  Female         Zomato   \n",
              "1      Yance  Barnsdale  ybarnsdale1@reference.com    Male  Goldman Sachs   \n",
              "2    Lazarus    MacNish   lmacnish2@altervista.org    Male            TCS   \n",
              "3     Monroe    Gwinnel      mgwinnel3@booking.com    Male  Goldman Sachs   \n",
              "4    Gaspard  Gullivent      ggullivent4@wikia.com    Male        Infosys   \n",
              "\n",
              "              designation                                    university  \\\n",
              "0                     NaN                         Sang Myung University   \n",
              "1           Social Worker          Fachhochschule Ravensburg-Weingarten   \n",
              "2  Administrative Officer  California State University, Channel Islands   \n",
              "3        Technical Writer                 St. Mary-of-the-Woods College   \n",
              "4     Clinical Specialist               Islamic Azad University, Quchan   \n",
              "\n",
              "  personal_phone   bank  birth_year  years_employed  \n",
              "0   132-421-9138   HDFC        1970            24.0  \n",
              "1   492-125-1131    SBI        1960            32.0  \n",
              "2   235-492-4252  ICICI        1970            24.0  \n",
              "3            NaN  ICICI        1982            14.4  \n",
              "4   232-527-4054  ICICI        1998             1.6  "
            ]
          },
          "execution_count": 3,
          "metadata": {},
          "output_type": "execute_result"
        }
      ],
      "source": [
        "data.head()"
      ]
    },
    {
      "cell_type": "code",
      "execution_count": null,
      "metadata": {
        "id": "RtUoxwhREQL7",
        "outputId": "3e8ce23d-63e4-4a33-b477-51176a66113b"
      },
      "outputs": [
        {
          "data": {
            "text/plain": [
              "(1000, 11)"
            ]
          },
          "execution_count": 5,
          "metadata": {},
          "output_type": "execute_result"
        }
      ],
      "source": [
        "data.shape"
      ]
    },
    {
      "cell_type": "code",
      "execution_count": null,
      "metadata": {
        "id": "L4j1dg2BEQL8"
      },
      "outputs": [],
      "source": [
        "\"\"\"\n",
        "1. Preprocessing Steps\n",
        "    a. Check NaN values and imputation\n",
        "    b. Data Sanitation\n",
        "2. use of for loops on column value manupilation/ inbuilt apply/lambda function\n",
        "3. Use of def function in column value manupilation\n",
        "4. Groupby\n",
        "5. Pivot_table\n",
        "6. Merge operation\n",
        "7. How to use and interperete Graphs\n",
        "    a. linear graph\n",
        "    b. scatter plots\n",
        "    c. pie Plot\n",
        "    d. box plot\n",
        "\"\"\""
      ]
    },
    {
      "cell_type": "markdown",
      "metadata": {
        "id": "Vt8oV1gHEQL8"
      },
      "source": [
        "# Preprocessing"
      ]
    },
    {
      "cell_type": "markdown",
      "metadata": {
        "id": "AmneePtVEQL8"
      },
      "source": [
        "##  Info of the data"
      ]
    },
    {
      "cell_type": "code",
      "execution_count": null,
      "metadata": {
        "ExecuteTime": {
          "end_time": "2022-10-09T11:49:55.293789Z",
          "start_time": "2022-10-09T11:49:55.274704Z"
        },
        "id": "ABH0mYUoEQL9",
        "outputId": "ada83cc5-005e-4688-8d07-1e4d7e6b6eea"
      },
      "outputs": [
        {
          "name": "stdout",
          "output_type": "stream",
          "text": [
            "<class 'pandas.core.frame.DataFrame'>\n",
            "RangeIndex: 1000 entries, 0 to 999\n",
            "Data columns (total 11 columns):\n",
            " #   Column          Non-Null Count  Dtype  \n",
            "---  ------          --------------  -----  \n",
            " 0   first_name      1000 non-null   object \n",
            " 1   last_name       1000 non-null   object \n",
            " 2   email           1000 non-null   object \n",
            " 3   gender          1000 non-null   object \n",
            " 4   employer        1000 non-null   object \n",
            " 5   designation     939 non-null    object \n",
            " 6   university      892 non-null    object \n",
            " 7   personal_phone  783 non-null    object \n",
            " 8   bank            1000 non-null   object \n",
            " 9   birth_year      1000 non-null   int64  \n",
            " 10  years_employed  1000 non-null   float64\n",
            "dtypes: float64(1), int64(1), object(9)\n",
            "memory usage: 86.1+ KB\n"
          ]
        }
      ],
      "source": [
        "data.info()"
      ]
    },
    {
      "cell_type": "code",
      "execution_count": null,
      "metadata": {
        "ExecuteTime": {
          "end_time": "2022-10-09T11:51:28.226399Z",
          "start_time": "2022-10-09T11:51:28.153776Z"
        },
        "id": "Uf3TEKA8EQL9",
        "outputId": "1ea66c10-3dd8-415d-ad29-d72f7f309013"
      },
      "outputs": [
        {
          "data": {
            "text/html": [
              "<div>\n",
              "<style scoped>\n",
              "    .dataframe tbody tr th:only-of-type {\n",
              "        vertical-align: middle;\n",
              "    }\n",
              "\n",
              "    .dataframe tbody tr th {\n",
              "        vertical-align: top;\n",
              "    }\n",
              "\n",
              "    .dataframe thead th {\n",
              "        text-align: right;\n",
              "    }\n",
              "</style>\n",
              "<table border=\"1\" class=\"dataframe\">\n",
              "  <thead>\n",
              "    <tr style=\"text-align: right;\">\n",
              "      <th></th>\n",
              "      <th>birth_year</th>\n",
              "      <th>years_employed</th>\n",
              "    </tr>\n",
              "  </thead>\n",
              "  <tbody>\n",
              "    <tr>\n",
              "      <th>count</th>\n",
              "      <td>1000.000000</td>\n",
              "      <td>1000.000000</td>\n",
              "    </tr>\n",
              "    <tr>\n",
              "      <th>mean</th>\n",
              "      <td>1978.382000</td>\n",
              "      <td>17.294400</td>\n",
              "    </tr>\n",
              "    <tr>\n",
              "      <th>std</th>\n",
              "      <td>11.336604</td>\n",
              "      <td>9.069283</td>\n",
              "    </tr>\n",
              "    <tr>\n",
              "      <th>min</th>\n",
              "      <td>1960.000000</td>\n",
              "      <td>1.600000</td>\n",
              "    </tr>\n",
              "    <tr>\n",
              "      <th>25%</th>\n",
              "      <td>1968.750000</td>\n",
              "      <td>9.600000</td>\n",
              "    </tr>\n",
              "    <tr>\n",
              "      <th>50%</th>\n",
              "      <td>1978.000000</td>\n",
              "      <td>17.600000</td>\n",
              "    </tr>\n",
              "    <tr>\n",
              "      <th>75%</th>\n",
              "      <td>1988.000000</td>\n",
              "      <td>25.000000</td>\n",
              "    </tr>\n",
              "    <tr>\n",
              "      <th>max</th>\n",
              "      <td>1998.000000</td>\n",
              "      <td>32.000000</td>\n",
              "    </tr>\n",
              "  </tbody>\n",
              "</table>\n",
              "</div>"
            ],
            "text/plain": [
              "        birth_year  years_employed\n",
              "count  1000.000000     1000.000000\n",
              "mean   1978.382000       17.294400\n",
              "std      11.336604        9.069283\n",
              "min    1960.000000        1.600000\n",
              "25%    1968.750000        9.600000\n",
              "50%    1978.000000       17.600000\n",
              "75%    1988.000000       25.000000\n",
              "max    1998.000000       32.000000"
            ]
          },
          "execution_count": 6,
          "metadata": {},
          "output_type": "execute_result"
        }
      ],
      "source": [
        "data.describe()"
      ]
    },
    {
      "cell_type": "code",
      "execution_count": null,
      "metadata": {
        "ExecuteTime": {
          "end_time": "2022-10-09T11:56:26.495245Z",
          "start_time": "2022-10-09T11:56:26.480239Z"
        },
        "id": "df6tZomeEQL9",
        "outputId": "98cfed0f-c112-44bb-eefe-3895ff1abad1"
      },
      "outputs": [
        {
          "data": {
            "text/plain": [
              "False    939\n",
              "True      61\n",
              "Name: designation, dtype: int64"
            ]
          },
          "execution_count": 7,
          "metadata": {},
          "output_type": "execute_result"
        }
      ],
      "source": [
        "data['designation'].isnull().value_counts()"
      ]
    },
    {
      "cell_type": "code",
      "execution_count": null,
      "metadata": {
        "ExecuteTime": {
          "end_time": "2022-10-09T11:59:01.183101Z",
          "start_time": "2022-10-09T11:59:01.126566Z"
        },
        "id": "ryRkB5bYEQL-",
        "outputId": "8c9d6294-f9b2-431a-cabd-bd240a434c6d"
      },
      "outputs": [
        {
          "data": {
            "text/plain": [
              "Goldman Sachs    17\n",
              "Zomato           12\n",
              "Google           11\n",
              "Flipkart          9\n",
              "Infosys           7\n",
              "TCS               5\n",
              "Name: employer, dtype: int64"
            ]
          },
          "execution_count": 8,
          "metadata": {},
          "output_type": "execute_result"
        }
      ],
      "source": [
        "data[data['designation'].isnull()]['employer'].value_counts()"
      ]
    },
    {
      "cell_type": "markdown",
      "metadata": {
        "id": "Nh1Ffoo-EQL-"
      },
      "source": [
        "## Simple fillna"
      ]
    },
    {
      "cell_type": "code",
      "execution_count": null,
      "metadata": {
        "ExecuteTime": {
          "end_time": "2022-10-09T12:04:21.464153Z",
          "start_time": "2022-10-09T12:04:21.453639Z"
        },
        "id": "QJS0deLKEQL_"
      },
      "outputs": [],
      "source": [
        "# Hypotheis that the role is entry level and thats why the designation is not available'\n",
        "data['new_designation'] = data['designation'].fillna('entry_level_role')"
      ]
    },
    {
      "cell_type": "code",
      "execution_count": null,
      "metadata": {
        "ExecuteTime": {
          "end_time": "2022-10-09T12:04:31.931738Z",
          "start_time": "2022-10-09T12:04:31.869417Z"
        },
        "id": "bfHAHZTpEQL_"
      },
      "outputs": [],
      "source": [
        "data.info()"
      ]
    },
    {
      "cell_type": "markdown",
      "metadata": {
        "id": "m767A_Q3EQMA"
      },
      "source": [
        "## using for loop on multiple columns"
      ]
    },
    {
      "cell_type": "code",
      "execution_count": null,
      "metadata": {
        "ExecuteTime": {
          "end_time": "2022-10-09T12:09:14.765455Z",
          "start_time": "2022-10-09T12:09:14.750214Z"
        },
        "id": "HdMaqSGyEQMA"
      },
      "outputs": [],
      "source": [
        "nan_employer_roles = {'Goldman Sachs':'banking_lvl1',\n",
        "                     'Zomato':'delivery_services',\n",
        "                     'Google':'developer_role1',\n",
        "                     'Flipkart':'logistics',\n",
        "                     'Infosys':'junior_associate',\n",
        "                     'TCS':'junior_consultant'}"
      ]
    },
    {
      "cell_type": "markdown",
      "metadata": {
        "id": "Kzzndfh5EQMB"
      },
      "source": [
        " val!=val condition must be true if val==np.nan,float(nan)"
      ]
    },
    {
      "cell_type": "code",
      "execution_count": null,
      "metadata": {
        "ExecuteTime": {
          "end_time": "2022-10-09T12:13:04.592225Z",
          "start_time": "2022-10-09T12:13:04.570994Z"
        },
        "code_folding": [
          0
        ],
        "id": "Dl8ihfXcEQMB"
      },
      "outputs": [],
      "source": [
        "# val = float('NaN')\n",
        "\n",
        "# val\n",
        "\n",
        "# val!=val"
      ]
    },
    {
      "cell_type": "code",
      "execution_count": null,
      "metadata": {
        "ExecuteTime": {
          "end_time": "2022-10-09T12:17:27.954621Z",
          "start_time": "2022-10-09T12:17:27.365237Z"
        },
        "id": "czGESGXKEQMB"
      },
      "outputs": [],
      "source": [
        "res_list = []\n",
        "for d in zip(data['designation'],data['employer']):\n",
        "    print(d)\n",
        "    if d[0]!=d[0]:\n",
        "        res_list.append(nan_employer_roles[d[1]])\n",
        "    else:\n",
        "        res_list.append(d[0])\n",
        "    print(res_list[-1])\n",
        "    print('####')"
      ]
    },
    {
      "cell_type": "code",
      "execution_count": null,
      "metadata": {
        "ExecuteTime": {
          "end_time": "2022-10-09T12:17:51.175713Z",
          "start_time": "2022-10-09T12:17:51.159395Z"
        },
        "id": "dkAbyudgEQMB"
      },
      "outputs": [],
      "source": [
        "# data['designation'] = np.array(res_list)"
      ]
    },
    {
      "cell_type": "code",
      "execution_count": null,
      "metadata": {
        "ExecuteTime": {
          "end_time": "2022-10-09T12:18:40.807146Z",
          "start_time": "2022-10-09T12:18:40.780759Z"
        },
        "id": "XrHB2U4AEQMB"
      },
      "outputs": [],
      "source": [
        "data['new_designation_2'] = np.array(res_list)"
      ]
    },
    {
      "cell_type": "code",
      "execution_count": null,
      "metadata": {
        "ExecuteTime": {
          "end_time": "2022-10-09T12:18:49.482532Z",
          "start_time": "2022-10-09T12:18:49.454188Z"
        },
        "id": "HOQwMeefEQMC"
      },
      "outputs": [],
      "source": [
        "data['new_designation_2']"
      ]
    },
    {
      "cell_type": "code",
      "execution_count": null,
      "metadata": {
        "ExecuteTime": {
          "end_time": "2022-10-09T12:19:19.639994Z",
          "start_time": "2022-10-09T12:19:19.550354Z"
        },
        "id": "0jdz1Ya4EQMC"
      },
      "outputs": [],
      "source": [
        "data.info()"
      ]
    },
    {
      "cell_type": "markdown",
      "metadata": {
        "id": "yrQPsgnDEQMC"
      },
      "source": [
        "## apply on sinle column"
      ]
    },
    {
      "cell_type": "code",
      "execution_count": null,
      "metadata": {
        "ExecuteTime": {
          "end_time": "2022-10-09T12:28:12.781445Z",
          "start_time": "2022-10-09T12:28:12.757792Z"
        },
        "id": "aCQoyXvQEQMC"
      },
      "outputs": [],
      "source": [
        "data['designation'].apply(lambda x:'entry_level_role' if x!=x else x)"
      ]
    },
    {
      "cell_type": "markdown",
      "metadata": {
        "id": "T6fd4l5HEQMC"
      },
      "source": [
        "## apply on multi column"
      ]
    },
    {
      "cell_type": "code",
      "execution_count": null,
      "metadata": {
        "ExecuteTime": {
          "end_time": "2022-10-09T12:30:53.753033Z",
          "start_time": "2022-10-09T12:30:53.738764Z"
        },
        "id": "KWZzQ83eEQMC"
      },
      "outputs": [],
      "source": [
        "def fill_nan_desig_employer(x,y): ## x == employer, y = designation\n",
        "    if y!=y:\n",
        "        return nan_employer_roles[x]\n",
        "    else:\n",
        "        return y"
      ]
    },
    {
      "cell_type": "code",
      "execution_count": null,
      "metadata": {
        "ExecuteTime": {
          "end_time": "2022-10-09T12:31:02.537353Z",
          "start_time": "2022-10-09T12:31:02.524771Z"
        },
        "id": "j9oGmbxdEQMD"
      },
      "outputs": [],
      "source": [
        "f = lambda x,y:fill_nan_desig_employer(x,y)"
      ]
    },
    {
      "cell_type": "code",
      "execution_count": null,
      "metadata": {
        "ExecuteTime": {
          "end_time": "2022-10-09T12:37:11.974047Z",
          "start_time": "2022-10-09T12:37:11.844560Z"
        },
        "id": "44GRh_PlEQMD"
      },
      "outputs": [],
      "source": [
        "data.apply(lambda x:fill_nan_desig_employer(x.employer,x.designation),axis = 1)"
      ]
    },
    {
      "cell_type": "code",
      "execution_count": null,
      "metadata": {
        "ExecuteTime": {
          "end_time": "2022-10-09T12:41:51.481338Z",
          "start_time": "2022-10-09T12:41:51.428644Z"
        },
        "id": "rA4XzfMaEQMD"
      },
      "outputs": [],
      "source": [
        "data.head()"
      ]
    },
    {
      "cell_type": "code",
      "execution_count": null,
      "metadata": {
        "id": "-WIrkG2ZEQMD"
      },
      "outputs": [],
      "source": [
        "# Replace NaN in personal_phone by\n",
        "\"\"\"\n",
        "1. 000-000-0000\n",
        "2. Condition on gender and give me values (000-000-0000 for Female and 111-111-1111 for male)\n",
        "3. condition on bank and get the values (000-000-0000, 111-111-1111, 222)\n",
        "\"\"\""
      ]
    },
    {
      "cell_type": "markdown",
      "metadata": {
        "id": "saijg4rFEQMD"
      },
      "source": [
        "## Type Casting and Data Sanitation"
      ]
    },
    {
      "cell_type": "code",
      "execution_count": null,
      "metadata": {
        "ExecuteTime": {
          "end_time": "2022-10-09T13:19:59.048882Z",
          "start_time": "2022-10-09T13:19:59.033175Z"
        },
        "id": "GQQN4GMaEQMD"
      },
      "outputs": [],
      "source": [
        "data['new_personal_phone'] = data['personal_phone'].fillna('000-000-0000')"
      ]
    },
    {
      "cell_type": "code",
      "execution_count": null,
      "metadata": {
        "ExecuteTime": {
          "end_time": "2022-10-09T13:20:17.556845Z",
          "start_time": "2022-10-09T13:20:17.496500Z"
        },
        "id": "DanUr8xpEQME"
      },
      "outputs": [],
      "source": [
        "data['new_personal_phone']"
      ]
    },
    {
      "cell_type": "code",
      "execution_count": null,
      "metadata": {
        "ExecuteTime": {
          "end_time": "2022-10-09T13:21:40.169393Z",
          "start_time": "2022-10-09T13:21:40.153967Z"
        },
        "id": "pvv13BCXEQME"
      },
      "outputs": [],
      "source": [
        "# Replace the hypen '-' from the personal_phone"
      ]
    },
    {
      "cell_type": "code",
      "execution_count": null,
      "metadata": {
        "ExecuteTime": {
          "end_time": "2022-10-09T13:25:23.302225Z",
          "start_time": "2022-10-09T13:25:23.284194Z"
        },
        "id": "VZXUzoUzEQME"
      },
      "outputs": [],
      "source": [
        "data['new_personal_phone'].apply(lambda x: x.replace('-',''))"
      ]
    },
    {
      "cell_type": "code",
      "execution_count": null,
      "metadata": {
        "ExecuteTime": {
          "end_time": "2022-10-09T13:28:10.149401Z",
          "start_time": "2022-10-09T13:28:10.141187Z"
        },
        "id": "MuazHgdIEQME"
      },
      "outputs": [],
      "source": [
        "data['university']"
      ]
    },
    {
      "cell_type": "code",
      "execution_count": null,
      "metadata": {
        "ExecuteTime": {
          "end_time": "2022-10-09T13:42:34.694384Z",
          "start_time": "2022-10-09T13:42:34.676829Z"
        },
        "id": "l5cmRX9rEQMF"
      },
      "outputs": [],
      "source": [
        "dir('str')"
      ]
    },
    {
      "cell_type": "code",
      "execution_count": null,
      "metadata": {
        "id": "8EyXLFMfEQMG"
      },
      "outputs": [],
      "source": []
    },
    {
      "cell_type": "code",
      "execution_count": null,
      "metadata": {
        "ExecuteTime": {
          "end_time": "2022-10-09T14:04:17.522396Z",
          "start_time": "2022-10-09T14:04:17.495316Z"
        },
        "code_folding": [],
        "id": "yrO4AoySEQMG"
      },
      "outputs": [],
      "source": [
        "def get_valid_string(x):\n",
        "    res = ''\n",
        "    for c in x:\n",
        "#         print(c)\n",
        "        if not c.isalpha():\n",
        "            if c==' ':\n",
        "                res+='_'\n",
        "            else:\n",
        "                res+=''\n",
        "        else:\n",
        "            res+=c\n",
        "    return res"
      ]
    },
    {
      "cell_type": "code",
      "execution_count": null,
      "metadata": {
        "ExecuteTime": {
          "end_time": "2022-10-09T14:08:06.225708Z",
          "start_time": "2022-10-09T14:08:06.216200Z"
        },
        "id": "ZSXW0C5mEQMH"
      },
      "outputs": [],
      "source": [
        "# [('_' if c==' ' else '') if not c.isalpha() else c for c in str1]"
      ]
    },
    {
      "cell_type": "code",
      "execution_count": null,
      "metadata": {
        "ExecuteTime": {
          "end_time": "2022-10-09T14:08:24.354318Z",
          "start_time": "2022-10-09T14:08:24.322779Z"
        },
        "code_folding": [],
        "id": "xxVwVuGoEQMH"
      },
      "outputs": [],
      "source": [
        "def get_valid_str_list_comp(x):\n",
        "    res = ''.join([('_' if c==' ' else '') if not c.isalpha() else c for c in x])\n",
        "    return res"
      ]
    },
    {
      "cell_type": "code",
      "execution_count": null,
      "metadata": {
        "ExecuteTime": {
          "end_time": "2022-10-09T14:08:22.199593Z",
          "start_time": "2022-10-09T14:08:22.189256Z"
        },
        "id": "1NbaIOQ1EQMH"
      },
      "outputs": [],
      "source": [
        "str1 = 'he#llo% bat&*)ch^%'"
      ]
    },
    {
      "cell_type": "code",
      "execution_count": null,
      "metadata": {
        "ExecuteTime": {
          "end_time": "2022-10-09T14:04:40.003653Z",
          "start_time": "2022-10-09T14:04:39.996039Z"
        },
        "id": "Qo9YCABAEQMH"
      },
      "outputs": [],
      "source": [
        "get_valid_string(str1)"
      ]
    },
    {
      "cell_type": "code",
      "execution_count": null,
      "metadata": {
        "ExecuteTime": {
          "end_time": "2022-10-09T14:08:25.535717Z",
          "start_time": "2022-10-09T14:08:25.492971Z"
        },
        "id": "f6rbDg6ZEQMI"
      },
      "outputs": [],
      "source": [
        "get_valid_str_list_comp(str1)"
      ]
    },
    {
      "cell_type": "code",
      "execution_count": null,
      "metadata": {
        "ExecuteTime": {
          "end_time": "2022-10-09T14:25:01.271345Z",
          "start_time": "2022-10-09T14:25:01.262154Z"
        },
        "id": "zTZdxcCSEQMI"
      },
      "outputs": [],
      "source": [
        "data['university'].fillna('',inplace = True)"
      ]
    },
    {
      "cell_type": "code",
      "execution_count": null,
      "metadata": {
        "ExecuteTime": {
          "end_time": "2022-10-09T14:25:07.374280Z",
          "start_time": "2022-10-09T14:25:07.313232Z"
        },
        "id": "fQ0YSndUEQMI"
      },
      "outputs": [],
      "source": [
        "data['university'].apply(lambda x:get_valid_string(x))"
      ]
    },
    {
      "cell_type": "markdown",
      "metadata": {
        "id": "GyIX9PojEQMJ"
      },
      "source": [
        "## Groupby"
      ]
    },
    {
      "cell_type": "code",
      "execution_count": null,
      "metadata": {
        "id": "WbIpFjmoEQMJ"
      },
      "outputs": [],
      "source": [
        "# certain value needs to be aggregated then groupbe can be used"
      ]
    },
    {
      "cell_type": "code",
      "execution_count": null,
      "metadata": {
        "ExecuteTime": {
          "end_time": "2022-10-09T14:28:55.658386Z",
          "start_time": "2022-10-09T14:28:55.612670Z"
        },
        "id": "Ae9qaIPxEQMJ"
      },
      "outputs": [],
      "source": [
        "data.info()"
      ]
    },
    {
      "cell_type": "code",
      "execution_count": null,
      "metadata": {
        "ExecuteTime": {
          "end_time": "2022-10-09T14:30:12.426795Z",
          "start_time": "2022-10-09T14:30:12.393398Z"
        },
        "id": "J6TaCDM7EQMK"
      },
      "outputs": [],
      "source": [
        "data[['employer','years_employed']].groupby(by=['employer'],as_index = False).mean()"
      ]
    },
    {
      "cell_type": "code",
      "execution_count": null,
      "metadata": {
        "ExecuteTime": {
          "end_time": "2022-10-09T14:35:23.434110Z",
          "start_time": "2022-10-09T14:35:23.392609Z"
        },
        "id": "4zR9ySBWEQMK"
      },
      "outputs": [],
      "source": [
        "data[['birth_year','years_employed']].groupby(by=['birth_year'],as_index = False).mean()"
      ]
    },
    {
      "cell_type": "markdown",
      "metadata": {
        "id": "xD4lS9CAEQMK"
      },
      "source": [
        "## Pivot"
      ]
    },
    {
      "cell_type": "code",
      "execution_count": null,
      "metadata": {
        "id": "ElZ-dcQBEQMK"
      },
      "outputs": [],
      "source": [
        "# 1. Index: what aggregation level you want, 2. column: aggregation with respect to what values, 3. Values: what value you want to agg\n"
      ]
    },
    {
      "cell_type": "code",
      "execution_count": null,
      "metadata": {
        "ExecuteTime": {
          "end_time": "2022-10-09T14:42:23.229159Z",
          "start_time": "2022-10-09T14:42:23.040764Z"
        },
        "id": "dPsaCyD2EQMK"
      },
      "outputs": [],
      "source": [
        "data[['employer','birth_year','years_employed',]].pivot_table(index = ['employer'],columns = ['birth_year'],values=['years_employed'],aggfunc = np.mean)"
      ]
    },
    {
      "cell_type": "code",
      "execution_count": null,
      "metadata": {
        "id": "rKrvvoifEQML"
      },
      "outputs": [],
      "source": []
    },
    {
      "cell_type": "code",
      "execution_count": null,
      "metadata": {
        "id": "WYTm0aHrEQML"
      },
      "outputs": [],
      "source": []
    },
    {
      "cell_type": "code",
      "execution_count": null,
      "metadata": {
        "id": "abqi0w52EQML"
      },
      "outputs": [],
      "source": []
    },
    {
      "cell_type": "code",
      "execution_count": null,
      "metadata": {
        "id": "6G_MCMXpEQML"
      },
      "outputs": [],
      "source": []
    },
    {
      "cell_type": "code",
      "execution_count": null,
      "metadata": {
        "id": "15j5Xa6AEQMM"
      },
      "outputs": [],
      "source": []
    },
    {
      "cell_type": "code",
      "execution_count": null,
      "metadata": {
        "id": "PQAw1Qq2EQMM"
      },
      "outputs": [],
      "source": []
    },
    {
      "cell_type": "code",
      "execution_count": null,
      "metadata": {
        "id": "v33zXpIiEQMM"
      },
      "outputs": [],
      "source": []
    },
    {
      "cell_type": "code",
      "execution_count": null,
      "metadata": {
        "id": "N8BMyBnZEQMM"
      },
      "outputs": [],
      "source": []
    },
    {
      "cell_type": "code",
      "execution_count": null,
      "metadata": {
        "id": "ZLlCk50wEQMM"
      },
      "outputs": [],
      "source": []
    },
    {
      "cell_type": "code",
      "execution_count": null,
      "metadata": {
        "id": "5W-yEh1FEQMM"
      },
      "outputs": [],
      "source": []
    }
  ],
  "metadata": {
    "kernelspec": {
      "display_name": "Python 3 (ipykernel)",
      "language": "python",
      "name": "python3"
    },
    "language_info": {
      "codemirror_mode": {
        "name": "ipython",
        "version": 3
      },
      "file_extension": ".py",
      "mimetype": "text/x-python",
      "name": "python",
      "nbconvert_exporter": "python",
      "pygments_lexer": "ipython3",
      "version": "3.9.12"
    },
    "toc": {
      "base_numbering": 1,
      "nav_menu": {},
      "number_sections": true,
      "sideBar": true,
      "skip_h1_title": false,
      "title_cell": "Table of Contents",
      "title_sidebar": "Contents",
      "toc_cell": false,
      "toc_position": {},
      "toc_section_display": true,
      "toc_window_display": true
    },
    "colab": {
      "provenance": [],
      "include_colab_link": true
    }
  },
  "nbformat": 4,
  "nbformat_minor": 0
}